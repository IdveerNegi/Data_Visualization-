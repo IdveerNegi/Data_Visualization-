{
 "cells": [
  {
   "cell_type": "markdown",
   "metadata": {},
   "source": [
    "# Prisoners Data Visualization"
   ]
  },
  {
   "cell_type": "markdown",
   "metadata": {},
   "source": [
    "### Step 1: Import the necessary libraries"
   ]
  },
  {
   "cell_type": "code",
   "execution_count": 1,
   "metadata": {},
   "outputs": [],
   "source": [
    "import pandas as pd"
   ]
  },
  {
   "cell_type": "markdown",
   "metadata": {},
   "source": [
    "### Step 2: Load the data and display first 5 and last 5 records"
   ]
  },
  {
   "cell_type": "code",
   "execution_count": 2,
   "metadata": {},
   "outputs": [],
   "source": [
    "data = pd.read_csv('Prisoners-Dataset.csv')"
   ]
  },
  {
   "cell_type": "code",
   "execution_count": 3,
   "metadata": {},
   "outputs": [
    {
     "data": {
      "text/html": [
       "<div>\n",
       "<style scoped>\n",
       "    .dataframe tbody tr th:only-of-type {\n",
       "        vertical-align: middle;\n",
       "    }\n",
       "\n",
       "    .dataframe tbody tr th {\n",
       "        vertical-align: top;\n",
       "    }\n",
       "\n",
       "    .dataframe thead th {\n",
       "        text-align: right;\n",
       "    }\n",
       "</style>\n",
       "<table border=\"1\" class=\"dataframe\">\n",
       "  <thead>\n",
       "    <tr style=\"text-align: right;\">\n",
       "      <th></th>\n",
       "      <th>STATE/UT</th>\n",
       "      <th>YEAR</th>\n",
       "      <th>No. of Inmates benefitted by Elementary Education</th>\n",
       "      <th>No. of Inmates benefitted by Adult Education</th>\n",
       "      <th>No. of Inmates benefitted by Higher Education</th>\n",
       "      <th>No. of Inmates benefitted by Computer Course</th>\n",
       "    </tr>\n",
       "  </thead>\n",
       "  <tbody>\n",
       "    <tr>\n",
       "      <th>0</th>\n",
       "      <td>Andhra Pradesh</td>\n",
       "      <td>2013</td>\n",
       "      <td>9480</td>\n",
       "      <td>13758</td>\n",
       "      <td>672</td>\n",
       "      <td>170</td>\n",
       "    </tr>\n",
       "    <tr>\n",
       "      <th>1</th>\n",
       "      <td>Arunachal Pradesh</td>\n",
       "      <td>2013</td>\n",
       "      <td>0</td>\n",
       "      <td>0</td>\n",
       "      <td>0</td>\n",
       "      <td>0</td>\n",
       "    </tr>\n",
       "    <tr>\n",
       "      <th>2</th>\n",
       "      <td>Assam</td>\n",
       "      <td>2013</td>\n",
       "      <td>676</td>\n",
       "      <td>750</td>\n",
       "      <td>14</td>\n",
       "      <td>30</td>\n",
       "    </tr>\n",
       "    <tr>\n",
       "      <th>3</th>\n",
       "      <td>Bihar</td>\n",
       "      <td>2013</td>\n",
       "      <td>1693</td>\n",
       "      <td>3013</td>\n",
       "      <td>125</td>\n",
       "      <td>1417</td>\n",
       "    </tr>\n",
       "    <tr>\n",
       "      <th>4</th>\n",
       "      <td>Chhatisgarh</td>\n",
       "      <td>2013</td>\n",
       "      <td>1664</td>\n",
       "      <td>1803</td>\n",
       "      <td>192</td>\n",
       "      <td>103</td>\n",
       "    </tr>\n",
       "  </tbody>\n",
       "</table>\n",
       "</div>"
      ],
      "text/plain": [
       "            STATE/UT  YEAR  No. of Inmates benefitted by Elementary Education  \\\n",
       "0     Andhra Pradesh  2013                                               9480   \n",
       "1  Arunachal Pradesh  2013                                                  0   \n",
       "2              Assam  2013                                                676   \n",
       "3              Bihar  2013                                               1693   \n",
       "4        Chhatisgarh  2013                                               1664   \n",
       "\n",
       "   No. of Inmates benefitted by Adult Education  \\\n",
       "0                                         13758   \n",
       "1                                             0   \n",
       "2                                           750   \n",
       "3                                          3013   \n",
       "4                                          1803   \n",
       "\n",
       "   No. of Inmates benefitted by Higher Education  \\\n",
       "0                                            672   \n",
       "1                                              0   \n",
       "2                                             14   \n",
       "3                                            125   \n",
       "4                                            192   \n",
       "\n",
       "   No. of Inmates benefitted by Computer Course  \n",
       "0                                           170  \n",
       "1                                             0  \n",
       "2                                            30  \n",
       "3                                          1417  \n",
       "4                                           103  "
      ]
     },
     "execution_count": 3,
     "metadata": {},
     "output_type": "execute_result"
    }
   ],
   "source": [
    "data.head()"
   ]
  },
  {
   "cell_type": "code",
   "execution_count": 4,
   "metadata": {},
   "outputs": [
    {
     "data": {
      "text/html": [
       "<div>\n",
       "<style scoped>\n",
       "    .dataframe tbody tr th:only-of-type {\n",
       "        vertical-align: middle;\n",
       "    }\n",
       "\n",
       "    .dataframe tbody tr th {\n",
       "        vertical-align: top;\n",
       "    }\n",
       "\n",
       "    .dataframe thead th {\n",
       "        text-align: right;\n",
       "    }\n",
       "</style>\n",
       "<table border=\"1\" class=\"dataframe\">\n",
       "  <thead>\n",
       "    <tr style=\"text-align: right;\">\n",
       "      <th></th>\n",
       "      <th>STATE/UT</th>\n",
       "      <th>YEAR</th>\n",
       "      <th>No. of Inmates benefitted by Elementary Education</th>\n",
       "      <th>No. of Inmates benefitted by Adult Education</th>\n",
       "      <th>No. of Inmates benefitted by Higher Education</th>\n",
       "      <th>No. of Inmates benefitted by Computer Course</th>\n",
       "    </tr>\n",
       "  </thead>\n",
       "  <tbody>\n",
       "    <tr>\n",
       "      <th>30</th>\n",
       "      <td>D &amp; N Haveli</td>\n",
       "      <td>2013</td>\n",
       "      <td>0</td>\n",
       "      <td>0</td>\n",
       "      <td>0</td>\n",
       "      <td>0</td>\n",
       "    </tr>\n",
       "    <tr>\n",
       "      <th>31</th>\n",
       "      <td>Daman &amp; Diu</td>\n",
       "      <td>2013</td>\n",
       "      <td>0</td>\n",
       "      <td>0</td>\n",
       "      <td>0</td>\n",
       "      <td>0</td>\n",
       "    </tr>\n",
       "    <tr>\n",
       "      <th>32</th>\n",
       "      <td>Delhi</td>\n",
       "      <td>2013</td>\n",
       "      <td>1458</td>\n",
       "      <td>1187</td>\n",
       "      <td>908</td>\n",
       "      <td>174</td>\n",
       "    </tr>\n",
       "    <tr>\n",
       "      <th>33</th>\n",
       "      <td>Lakshadweep</td>\n",
       "      <td>2013</td>\n",
       "      <td>0</td>\n",
       "      <td>0</td>\n",
       "      <td>0</td>\n",
       "      <td>0</td>\n",
       "    </tr>\n",
       "    <tr>\n",
       "      <th>34</th>\n",
       "      <td>Pondicherry</td>\n",
       "      <td>2013</td>\n",
       "      <td>0</td>\n",
       "      <td>0</td>\n",
       "      <td>0</td>\n",
       "      <td>0</td>\n",
       "    </tr>\n",
       "  </tbody>\n",
       "</table>\n",
       "</div>"
      ],
      "text/plain": [
       "        STATE/UT  YEAR  No. of Inmates benefitted by Elementary Education  \\\n",
       "30  D & N Haveli  2013                                                  0   \n",
       "31   Daman & Diu  2013                                                  0   \n",
       "32         Delhi  2013                                               1458   \n",
       "33   Lakshadweep  2013                                                  0   \n",
       "34   Pondicherry  2013                                                  0   \n",
       "\n",
       "    No. of Inmates benefitted by Adult Education  \\\n",
       "30                                             0   \n",
       "31                                             0   \n",
       "32                                          1187   \n",
       "33                                             0   \n",
       "34                                             0   \n",
       "\n",
       "    No. of Inmates benefitted by Higher Education  \\\n",
       "30                                              0   \n",
       "31                                              0   \n",
       "32                                            908   \n",
       "33                                              0   \n",
       "34                                              0   \n",
       "\n",
       "    No. of Inmates benefitted by Computer Course  \n",
       "30                                             0  \n",
       "31                                             0  \n",
       "32                                           174  \n",
       "33                                             0  \n",
       "34                                             0  "
      ]
     },
     "execution_count": 4,
     "metadata": {},
     "output_type": "execute_result"
    }
   ],
   "source": [
    "data.tail()"
   ]
  },
  {
   "cell_type": "markdown",
   "metadata": {},
   "source": [
    "### Step 3: Describe the data"
   ]
  },
  {
   "cell_type": "code",
   "execution_count": 5,
   "metadata": {},
   "outputs": [
    {
     "data": {
      "text/html": [
       "<div>\n",
       "<style scoped>\n",
       "    .dataframe tbody tr th:only-of-type {\n",
       "        vertical-align: middle;\n",
       "    }\n",
       "\n",
       "    .dataframe tbody tr th {\n",
       "        vertical-align: top;\n",
       "    }\n",
       "\n",
       "    .dataframe thead th {\n",
       "        text-align: right;\n",
       "    }\n",
       "</style>\n",
       "<table border=\"1\" class=\"dataframe\">\n",
       "  <thead>\n",
       "    <tr style=\"text-align: right;\">\n",
       "      <th></th>\n",
       "      <th>YEAR</th>\n",
       "      <th>No. of Inmates benefitted by Elementary Education</th>\n",
       "      <th>No. of Inmates benefitted by Adult Education</th>\n",
       "      <th>No. of Inmates benefitted by Higher Education</th>\n",
       "      <th>No. of Inmates benefitted by Computer Course</th>\n",
       "    </tr>\n",
       "  </thead>\n",
       "  <tbody>\n",
       "    <tr>\n",
       "      <th>count</th>\n",
       "      <td>35.0</td>\n",
       "      <td>35.000000</td>\n",
       "      <td>35.000000</td>\n",
       "      <td>35.000000</td>\n",
       "      <td>35.000000</td>\n",
       "    </tr>\n",
       "    <tr>\n",
       "      <th>mean</th>\n",
       "      <td>2013.0</td>\n",
       "      <td>1057.914286</td>\n",
       "      <td>1534.857143</td>\n",
       "      <td>237.457143</td>\n",
       "      <td>210.171429</td>\n",
       "    </tr>\n",
       "    <tr>\n",
       "      <th>std</th>\n",
       "      <td>0.0</td>\n",
       "      <td>2078.196777</td>\n",
       "      <td>3022.110503</td>\n",
       "      <td>375.614191</td>\n",
       "      <td>359.117340</td>\n",
       "    </tr>\n",
       "    <tr>\n",
       "      <th>min</th>\n",
       "      <td>2013.0</td>\n",
       "      <td>0.000000</td>\n",
       "      <td>0.000000</td>\n",
       "      <td>0.000000</td>\n",
       "      <td>0.000000</td>\n",
       "    </tr>\n",
       "    <tr>\n",
       "      <th>25%</th>\n",
       "      <td>2013.0</td>\n",
       "      <td>0.000000</td>\n",
       "      <td>6.500000</td>\n",
       "      <td>2.000000</td>\n",
       "      <td>0.000000</td>\n",
       "    </tr>\n",
       "    <tr>\n",
       "      <th>50%</th>\n",
       "      <td>2013.0</td>\n",
       "      <td>167.000000</td>\n",
       "      <td>237.000000</td>\n",
       "      <td>33.000000</td>\n",
       "      <td>38.000000</td>\n",
       "    </tr>\n",
       "    <tr>\n",
       "      <th>75%</th>\n",
       "      <td>2013.0</td>\n",
       "      <td>1294.500000</td>\n",
       "      <td>1733.500000</td>\n",
       "      <td>234.500000</td>\n",
       "      <td>227.500000</td>\n",
       "    </tr>\n",
       "    <tr>\n",
       "      <th>max</th>\n",
       "      <td>2013.0</td>\n",
       "      <td>9480.000000</td>\n",
       "      <td>13758.000000</td>\n",
       "      <td>1353.000000</td>\n",
       "      <td>1417.000000</td>\n",
       "    </tr>\n",
       "  </tbody>\n",
       "</table>\n",
       "</div>"
      ],
      "text/plain": [
       "         YEAR  No. of Inmates benefitted by Elementary Education  \\\n",
       "count    35.0                                          35.000000   \n",
       "mean   2013.0                                        1057.914286   \n",
       "std       0.0                                        2078.196777   \n",
       "min    2013.0                                           0.000000   \n",
       "25%    2013.0                                           0.000000   \n",
       "50%    2013.0                                         167.000000   \n",
       "75%    2013.0                                        1294.500000   \n",
       "max    2013.0                                        9480.000000   \n",
       "\n",
       "       No. of Inmates benefitted by Adult Education  \\\n",
       "count                                     35.000000   \n",
       "mean                                    1534.857143   \n",
       "std                                     3022.110503   \n",
       "min                                        0.000000   \n",
       "25%                                        6.500000   \n",
       "50%                                      237.000000   \n",
       "75%                                     1733.500000   \n",
       "max                                    13758.000000   \n",
       "\n",
       "       No. of Inmates benefitted by Higher Education  \\\n",
       "count                                      35.000000   \n",
       "mean                                      237.457143   \n",
       "std                                       375.614191   \n",
       "min                                         0.000000   \n",
       "25%                                         2.000000   \n",
       "50%                                        33.000000   \n",
       "75%                                       234.500000   \n",
       "max                                      1353.000000   \n",
       "\n",
       "       No. of Inmates benefitted by Computer Course  \n",
       "count                                     35.000000  \n",
       "mean                                     210.171429  \n",
       "std                                      359.117340  \n",
       "min                                        0.000000  \n",
       "25%                                        0.000000  \n",
       "50%                                       38.000000  \n",
       "75%                                      227.500000  \n",
       "max                                     1417.000000  "
      ]
     },
     "execution_count": 5,
     "metadata": {},
     "output_type": "execute_result"
    }
   ],
   "source": [
    "data.describe()"
   ]
  },
  {
   "cell_type": "markdown",
   "metadata": {},
   "source": [
    "### Step 4: Create a column 'total_benefitted' that shows sum of inmates with respect to each State/UT"
   ]
  },
  {
   "cell_type": "code",
   "execution_count": 6,
   "metadata": {},
   "outputs": [],
   "source": [
    "data = data.set_index('STATE/UT')"
   ]
  },
  {
   "cell_type": "code",
   "execution_count": 7,
   "metadata": {},
   "outputs": [
    {
     "data": {
      "text/html": [
       "<div>\n",
       "<style scoped>\n",
       "    .dataframe tbody tr th:only-of-type {\n",
       "        vertical-align: middle;\n",
       "    }\n",
       "\n",
       "    .dataframe tbody tr th {\n",
       "        vertical-align: top;\n",
       "    }\n",
       "\n",
       "    .dataframe thead th {\n",
       "        text-align: right;\n",
       "    }\n",
       "</style>\n",
       "<table border=\"1\" class=\"dataframe\">\n",
       "  <thead>\n",
       "    <tr style=\"text-align: right;\">\n",
       "      <th></th>\n",
       "      <th>YEAR</th>\n",
       "      <th>No. of Inmates benefitted by Elementary Education</th>\n",
       "      <th>No. of Inmates benefitted by Adult Education</th>\n",
       "      <th>No. of Inmates benefitted by Higher Education</th>\n",
       "      <th>No. of Inmates benefitted by Computer Course</th>\n",
       "    </tr>\n",
       "    <tr>\n",
       "      <th>STATE/UT</th>\n",
       "      <th></th>\n",
       "      <th></th>\n",
       "      <th></th>\n",
       "      <th></th>\n",
       "      <th></th>\n",
       "    </tr>\n",
       "  </thead>\n",
       "  <tbody>\n",
       "    <tr>\n",
       "      <th>Andhra Pradesh</th>\n",
       "      <td>2013</td>\n",
       "      <td>9480</td>\n",
       "      <td>13758</td>\n",
       "      <td>672</td>\n",
       "      <td>170</td>\n",
       "    </tr>\n",
       "  </tbody>\n",
       "</table>\n",
       "</div>"
      ],
      "text/plain": [
       "                YEAR  No. of Inmates benefitted by Elementary Education  \\\n",
       "STATE/UT                                                                  \n",
       "Andhra Pradesh  2013                                               9480   \n",
       "\n",
       "                No. of Inmates benefitted by Adult Education  \\\n",
       "STATE/UT                                                       \n",
       "Andhra Pradesh                                         13758   \n",
       "\n",
       "                No. of Inmates benefitted by Higher Education  \\\n",
       "STATE/UT                                                        \n",
       "Andhra Pradesh                                            672   \n",
       "\n",
       "                No. of Inmates benefitted by Computer Course  \n",
       "STATE/UT                                                      \n",
       "Andhra Pradesh                                           170  "
      ]
     },
     "execution_count": 7,
     "metadata": {},
     "output_type": "execute_result"
    }
   ],
   "source": [
    "data.head(1)"
   ]
  },
  {
   "cell_type": "code",
   "execution_count": 8,
   "metadata": {},
   "outputs": [],
   "source": [
    "new_data = data"
   ]
  },
  {
   "cell_type": "code",
   "execution_count": 9,
   "metadata": {},
   "outputs": [
    {
     "data": {
      "text/html": [
       "<div>\n",
       "<style scoped>\n",
       "    .dataframe tbody tr th:only-of-type {\n",
       "        vertical-align: middle;\n",
       "    }\n",
       "\n",
       "    .dataframe tbody tr th {\n",
       "        vertical-align: top;\n",
       "    }\n",
       "\n",
       "    .dataframe thead th {\n",
       "        text-align: right;\n",
       "    }\n",
       "</style>\n",
       "<table border=\"1\" class=\"dataframe\">\n",
       "  <thead>\n",
       "    <tr style=\"text-align: right;\">\n",
       "      <th></th>\n",
       "      <th>YEAR</th>\n",
       "      <th>No. of Inmates benefitted by Elementary Education</th>\n",
       "      <th>No. of Inmates benefitted by Adult Education</th>\n",
       "      <th>No. of Inmates benefitted by Higher Education</th>\n",
       "      <th>No. of Inmates benefitted by Computer Course</th>\n",
       "    </tr>\n",
       "    <tr>\n",
       "      <th>STATE/UT</th>\n",
       "      <th></th>\n",
       "      <th></th>\n",
       "      <th></th>\n",
       "      <th></th>\n",
       "      <th></th>\n",
       "    </tr>\n",
       "  </thead>\n",
       "  <tbody>\n",
       "    <tr>\n",
       "      <th>Andhra Pradesh</th>\n",
       "      <td>2013</td>\n",
       "      <td>9480</td>\n",
       "      <td>13758</td>\n",
       "      <td>672</td>\n",
       "      <td>170</td>\n",
       "    </tr>\n",
       "    <tr>\n",
       "      <th>Arunachal Pradesh</th>\n",
       "      <td>2013</td>\n",
       "      <td>0</td>\n",
       "      <td>0</td>\n",
       "      <td>0</td>\n",
       "      <td>0</td>\n",
       "    </tr>\n",
       "  </tbody>\n",
       "</table>\n",
       "</div>"
      ],
      "text/plain": [
       "                   YEAR  No. of Inmates benefitted by Elementary Education  \\\n",
       "STATE/UT                                                                     \n",
       "Andhra Pradesh     2013                                               9480   \n",
       "Arunachal Pradesh  2013                                                  0   \n",
       "\n",
       "                   No. of Inmates benefitted by Adult Education  \\\n",
       "STATE/UT                                                          \n",
       "Andhra Pradesh                                            13758   \n",
       "Arunachal Pradesh                                             0   \n",
       "\n",
       "                   No. of Inmates benefitted by Higher Education  \\\n",
       "STATE/UT                                                           \n",
       "Andhra Pradesh                                               672   \n",
       "Arunachal Pradesh                                              0   \n",
       "\n",
       "                   No. of Inmates benefitted by Computer Course  \n",
       "STATE/UT                                                         \n",
       "Andhra Pradesh                                              170  \n",
       "Arunachal Pradesh                                             0  "
      ]
     },
     "execution_count": 9,
     "metadata": {},
     "output_type": "execute_result"
    }
   ],
   "source": [
    "new_data.head(2)"
   ]
  },
  {
   "cell_type": "code",
   "execution_count": 10,
   "metadata": {},
   "outputs": [],
   "source": [
    "new_data.drop('YEAR', axis=1, inplace=True)"
   ]
  },
  {
   "cell_type": "code",
   "execution_count": 11,
   "metadata": {},
   "outputs": [
    {
     "data": {
      "text/html": [
       "<div>\n",
       "<style scoped>\n",
       "    .dataframe tbody tr th:only-of-type {\n",
       "        vertical-align: middle;\n",
       "    }\n",
       "\n",
       "    .dataframe tbody tr th {\n",
       "        vertical-align: top;\n",
       "    }\n",
       "\n",
       "    .dataframe thead th {\n",
       "        text-align: right;\n",
       "    }\n",
       "</style>\n",
       "<table border=\"1\" class=\"dataframe\">\n",
       "  <thead>\n",
       "    <tr style=\"text-align: right;\">\n",
       "      <th></th>\n",
       "      <th>No. of Inmates benefitted by Elementary Education</th>\n",
       "      <th>No. of Inmates benefitted by Adult Education</th>\n",
       "      <th>No. of Inmates benefitted by Higher Education</th>\n",
       "      <th>No. of Inmates benefitted by Computer Course</th>\n",
       "    </tr>\n",
       "    <tr>\n",
       "      <th>STATE/UT</th>\n",
       "      <th></th>\n",
       "      <th></th>\n",
       "      <th></th>\n",
       "      <th></th>\n",
       "    </tr>\n",
       "  </thead>\n",
       "  <tbody>\n",
       "    <tr>\n",
       "      <th>Andhra Pradesh</th>\n",
       "      <td>9480</td>\n",
       "      <td>13758</td>\n",
       "      <td>672</td>\n",
       "      <td>170</td>\n",
       "    </tr>\n",
       "    <tr>\n",
       "      <th>Arunachal Pradesh</th>\n",
       "      <td>0</td>\n",
       "      <td>0</td>\n",
       "      <td>0</td>\n",
       "      <td>0</td>\n",
       "    </tr>\n",
       "  </tbody>\n",
       "</table>\n",
       "</div>"
      ],
      "text/plain": [
       "                   No. of Inmates benefitted by Elementary Education  \\\n",
       "STATE/UT                                                               \n",
       "Andhra Pradesh                                                  9480   \n",
       "Arunachal Pradesh                                                  0   \n",
       "\n",
       "                   No. of Inmates benefitted by Adult Education  \\\n",
       "STATE/UT                                                          \n",
       "Andhra Pradesh                                            13758   \n",
       "Arunachal Pradesh                                             0   \n",
       "\n",
       "                   No. of Inmates benefitted by Higher Education  \\\n",
       "STATE/UT                                                           \n",
       "Andhra Pradesh                                               672   \n",
       "Arunachal Pradesh                                              0   \n",
       "\n",
       "                   No. of Inmates benefitted by Computer Course  \n",
       "STATE/UT                                                         \n",
       "Andhra Pradesh                                              170  \n",
       "Arunachal Pradesh                                             0  "
      ]
     },
     "execution_count": 11,
     "metadata": {},
     "output_type": "execute_result"
    }
   ],
   "source": [
    "new_data.head(2)"
   ]
  },
  {
   "cell_type": "code",
   "execution_count": 12,
   "metadata": {},
   "outputs": [],
   "source": [
    "data['total_benefit'] = new_data.sum(axis=1)"
   ]
  },
  {
   "cell_type": "code",
   "execution_count": 13,
   "metadata": {},
   "outputs": [
    {
     "data": {
      "text/html": [
       "<div>\n",
       "<style scoped>\n",
       "    .dataframe tbody tr th:only-of-type {\n",
       "        vertical-align: middle;\n",
       "    }\n",
       "\n",
       "    .dataframe tbody tr th {\n",
       "        vertical-align: top;\n",
       "    }\n",
       "\n",
       "    .dataframe thead th {\n",
       "        text-align: right;\n",
       "    }\n",
       "</style>\n",
       "<table border=\"1\" class=\"dataframe\">\n",
       "  <thead>\n",
       "    <tr style=\"text-align: right;\">\n",
       "      <th></th>\n",
       "      <th>No. of Inmates benefitted by Elementary Education</th>\n",
       "      <th>No. of Inmates benefitted by Adult Education</th>\n",
       "      <th>No. of Inmates benefitted by Higher Education</th>\n",
       "      <th>No. of Inmates benefitted by Computer Course</th>\n",
       "      <th>total_benefit</th>\n",
       "    </tr>\n",
       "    <tr>\n",
       "      <th>STATE/UT</th>\n",
       "      <th></th>\n",
       "      <th></th>\n",
       "      <th></th>\n",
       "      <th></th>\n",
       "      <th></th>\n",
       "    </tr>\n",
       "  </thead>\n",
       "  <tbody>\n",
       "    <tr>\n",
       "      <th>Andhra Pradesh</th>\n",
       "      <td>9480</td>\n",
       "      <td>13758</td>\n",
       "      <td>672</td>\n",
       "      <td>170</td>\n",
       "      <td>24080</td>\n",
       "    </tr>\n",
       "    <tr>\n",
       "      <th>Arunachal Pradesh</th>\n",
       "      <td>0</td>\n",
       "      <td>0</td>\n",
       "      <td>0</td>\n",
       "      <td>0</td>\n",
       "      <td>0</td>\n",
       "    </tr>\n",
       "  </tbody>\n",
       "</table>\n",
       "</div>"
      ],
      "text/plain": [
       "                   No. of Inmates benefitted by Elementary Education  \\\n",
       "STATE/UT                                                               \n",
       "Andhra Pradesh                                                  9480   \n",
       "Arunachal Pradesh                                                  0   \n",
       "\n",
       "                   No. of Inmates benefitted by Adult Education  \\\n",
       "STATE/UT                                                          \n",
       "Andhra Pradesh                                            13758   \n",
       "Arunachal Pradesh                                             0   \n",
       "\n",
       "                   No. of Inmates benefitted by Higher Education  \\\n",
       "STATE/UT                                                           \n",
       "Andhra Pradesh                                               672   \n",
       "Arunachal Pradesh                                              0   \n",
       "\n",
       "                   No. of Inmates benefitted by Computer Course  total_benefit  \n",
       "STATE/UT                                                                        \n",
       "Andhra Pradesh                                              170          24080  \n",
       "Arunachal Pradesh                                             0              0  "
      ]
     },
     "execution_count": 13,
     "metadata": {},
     "output_type": "execute_result"
    }
   ],
   "source": [
    "data.head(2)"
   ]
  },
  {
   "cell_type": "markdown",
   "metadata": {},
   "source": [
    "### Step 5: Create a bar chart with total benefitted inmates values in descending order"
   ]
  },
  {
   "cell_type": "code",
   "execution_count": 14,
   "metadata": {},
   "outputs": [
    {
     "data": {
      "text/plain": [
       "STATE/UT\n",
       "Andhra Pradesh    24080\n",
       "Uttar Pradesh     17534\n",
       "Name: total_benefit, dtype: int64"
      ]
     },
     "execution_count": 14,
     "metadata": {},
     "output_type": "execute_result"
    }
   ],
   "source": [
    "data.total_benefit.sort_values(ascending=False).head(2)"
   ]
  },
  {
   "cell_type": "code",
   "execution_count": 15,
   "metadata": {},
   "outputs": [],
   "source": [
    "import matplotlib.pyplot as plt\n",
    "import seaborn as sns"
   ]
  },
  {
   "cell_type": "code",
   "execution_count": 16,
   "metadata": {},
   "outputs": [],
   "source": [
    "total_benefitted = data.total_benefit.sort_values(ascending=False).head(5)"
   ]
  },
  {
   "cell_type": "code",
   "execution_count": 17,
   "metadata": {},
   "outputs": [
    {
     "data": {
      "text/plain": [
       "STATE/UT\n",
       "Andhra Pradesh    24080\n",
       "Uttar Pradesh     17534\n",
       "Madhya Pradesh    12004\n",
       "Gujarat            7284\n",
       "Jharkhand          6315\n",
       "Name: total_benefit, dtype: int64"
      ]
     },
     "execution_count": 17,
     "metadata": {},
     "output_type": "execute_result"
    }
   ],
   "source": [
    "total_benefitted"
   ]
  },
  {
   "cell_type": "code",
   "execution_count": 18,
   "metadata": {},
   "outputs": [
    {
     "data": {
      "image/png": "[encoded data removed]",
      "text/plain": [
       "<matplotlib.figure.Figure at 0x18124738320>"
      ]
     },
     "metadata": {},
     "output_type": "display_data"
    }
   ],
   "source": [
    "plt.figure(figsize=(10, 5))\n",
    "plt.bar(x=total_benefitted.index, height=total_benefitted)\n",
    "plt.show()"
   ]
  },
  {
   "cell_type": "code",
   "execution_count": 19,
   "metadata": {},
   "outputs": [
    {
     "data": {
      "image/png": "[encoded data removed]",
      "text/plain": [
       "<matplotlib.figure.Figure at 0x181247efe48>"
      ]
     },
     "metadata": {},
     "output_type": "display_data"
    }
   ],
   "source": [
    "plt.figure(figsize=(10, 5))\n",
    "sns.barplot(x=total_benefitted.index, y=total_benefitted)\n",
    "plt.show()"
   ]
  },
  {
   "cell_type": "markdown",
   "metadata": {},
   "source": [
    "### Step 6: Create a pie chart to show ratio among different modes of benefits"
   ]
  },
  {
   "cell_type": "code",
   "execution_count": 20,
   "metadata": {},
   "outputs": [],
   "source": [
    "total_benefit = data.sum(axis=0)"
   ]
  },
  {
   "cell_type": "code",
   "execution_count": 21,
   "metadata": {},
   "outputs": [
    {
     "data": {
      "text/plain": [
       "No. of Inmates benefitted by Elementary Education     37027\n",
       "No. of Inmates benefitted by Adult Education          53720\n",
       "No. of Inmates benefitted by Higher Education          8311\n",
       "No. of Inmates benefitted by Computer Course           7356\n",
       "total_benefit                                        106414\n",
       "dtype: int64"
      ]
     },
     "execution_count": 21,
     "metadata": {},
     "output_type": "execute_result"
    }
   ],
   "source": [
    "total_benefit"
   ]
  },
  {
   "cell_type": "code",
   "execution_count": 22,
   "metadata": {},
   "outputs": [],
   "source": [
    "total_benefit.index = ['Elementary Edu', 'Adult Edu', 'Higher Edu', 'Computer Course', 'Total Benefit']"
   ]
  },
  {
   "cell_type": "code",
   "execution_count": 23,
   "metadata": {},
   "outputs": [
    {
     "data": {
      "text/plain": [
       "Elementary Edu      37027\n",
       "Adult Edu           53720\n",
       "Higher Edu           8311\n",
       "Computer Course      7356\n",
       "Total Benefit      106414\n",
       "dtype: int64"
      ]
     },
     "execution_count": 23,
     "metadata": {},
     "output_type": "execute_result"
    }
   ],
   "source": [
    "total_benefit"
   ]
  },
  {
   "cell_type": "code",
   "execution_count": 24,
   "metadata": {},
   "outputs": [],
   "source": [
    "total_benefit.drop('Total Benefit', axis=0, inplace=True)"
   ]
  },
  {
   "cell_type": "code",
   "execution_count": 25,
   "metadata": {},
   "outputs": [
    {
     "data": {
      "text/plain": [
       "Elementary Edu     37027\n",
       "Adult Edu          53720\n",
       "Higher Edu          8311\n",
       "Computer Course     7356\n",
       "dtype: int64"
      ]
     },
     "execution_count": 25,
     "metadata": {},
     "output_type": "execute_result"
    }
   ],
   "source": [
    "total_benefit"
   ]
  },
  {
   "cell_type": "code",
   "execution_count": 26,
   "metadata": {},
   "outputs": [
    {
     "data": {
      "text/plain": [
       "([<matplotlib.patches.Wedge at 0x18124b6a7b8>,\n",
       "  <matplotlib.patches.Wedge at 0x18124b6aeb8>,\n",
       "  <matplotlib.patches.Wedge at 0x18124b74630>,\n",
       "  <matplotlib.patches.Wedge at 0x18124b74dd8>],\n",
       " [Text(0.505684,0.976874,'Elementary Edu'),\n",
       "  Text(-0.928826,-0.678072,'Adult Edu'),\n",
       "  Text(0.855542,-0.69141,'Higher Edu'),\n",
       "  Text(1.07416,-0.23701,'Computer Course')],\n",
       " [Text(0.275828,0.532841,'34.80'),\n",
       "  Text(-0.524989,-0.383258,'50.48'),\n",
       "  Text(0.466659,-0.377133,'7.81'),\n",
       "  Text(0.585907,-0.129278,'6.91')])"
      ]
     },
     "execution_count": 26,
     "metadata": {},
     "output_type": "execute_result"
    },
    {
     "data": {
      "image/png": "[encoded data removed]",
      "text/plain": [
       "<matplotlib.figure.Figure at 0x181247389b0>"
      ]
     },
     "metadata": {},
     "output_type": "display_data"
    }
   ],
   "source": [
    "plt.figure(figsize=(10, 10))\n",
    "plt.pie(total_benefit, labels=total_benefit.index, autopct=\"%.2f\", explode=(0, 0.05, 0, 0))"
   ]
  },
  {
   "cell_type": "code",
   "execution_count": 28,
   "metadata": {},
   "outputs": [
    {
     "data": {
      "text/plain": [
       "<matplotlib.axes._subplots.AxesSubplot at 0x18124d6e8d0>"
      ]
     },
     "execution_count": 28,
     "metadata": {},
     "output_type": "execute_result"
    },
    {
     "data": {
      "image/png": "[encoded data removed]",
      "text/plain": [
       "<matplotlib.figure.Figure at 0x18124d6e1d0>"
      ]
     },
     "metadata": {},
     "output_type": "display_data"
    }
   ],
   "source": [
    "total_benefit.plot(kind='pie', autopct=\"%.2f\")"
   ]
  },
  {
   "cell_type": "markdown",
   "metadata": {},
   "source": [
    "### Step 7: For the 5 highest benefitted states, create a stacked bar chart"
   ]
  },
  {
   "cell_type": "code",
   "execution_count": 29,
   "metadata": {},
   "outputs": [],
   "source": [
    "benefitted_states = data.total_benefit.sort_values(ascending=False).head()"
   ]
  },
  {
   "cell_type": "code",
   "execution_count": 30,
   "metadata": {},
   "outputs": [],
   "source": [
    "benefitted_states = benefitted_states.index.tolist()"
   ]
  },
  {
   "cell_type": "code",
   "execution_count": 31,
   "metadata": {},
   "outputs": [
    {
     "data": {
      "text/plain": [
       "['Andhra Pradesh', 'Uttar Pradesh', 'Madhya Pradesh', 'Gujarat', 'Jharkhand']"
      ]
     },
     "execution_count": 31,
     "metadata": {},
     "output_type": "execute_result"
    }
   ],
   "source": [
    "benefitted_states"
   ]
  },
  {
   "cell_type": "code",
   "execution_count": 32,
   "metadata": {},
   "outputs": [],
   "source": [
    "highest_benefitted = data[data.index.isin(benefitted_states)]"
   ]
  },
  {
   "cell_type": "code",
   "execution_count": 33,
   "metadata": {},
   "outputs": [
    {
     "data": {
      "text/html": [
       "<div>\n",
       "<style scoped>\n",
       "    .dataframe tbody tr th:only-of-type {\n",
       "        vertical-align: middle;\n",
       "    }\n",
       "\n",
       "    .dataframe tbody tr th {\n",
       "        vertical-align: top;\n",
       "    }\n",
       "\n",
       "    .dataframe thead th {\n",
       "        text-align: right;\n",
       "    }\n",
       "</style>\n",
       "<table border=\"1\" class=\"dataframe\">\n",
       "  <thead>\n",
       "    <tr style=\"text-align: right;\">\n",
       "      <th></th>\n",
       "      <th>No. of Inmates benefitted by Elementary Education</th>\n",
       "      <th>No. of Inmates benefitted by Adult Education</th>\n",
       "      <th>No. of Inmates benefitted by Higher Education</th>\n",
       "      <th>No. of Inmates benefitted by Computer Course</th>\n",
       "      <th>total_benefit</th>\n",
       "    </tr>\n",
       "    <tr>\n",
       "      <th>STATE/UT</th>\n",
       "      <th></th>\n",
       "      <th></th>\n",
       "      <th></th>\n",
       "      <th></th>\n",
       "      <th></th>\n",
       "    </tr>\n",
       "  </thead>\n",
       "  <tbody>\n",
       "    <tr>\n",
       "      <th>Andhra Pradesh</th>\n",
       "      <td>9480</td>\n",
       "      <td>13758</td>\n",
       "      <td>672</td>\n",
       "      <td>170</td>\n",
       "      <td>24080</td>\n",
       "    </tr>\n",
       "    <tr>\n",
       "      <th>Gujarat</th>\n",
       "      <td>2310</td>\n",
       "      <td>3133</td>\n",
       "      <td>875</td>\n",
       "      <td>966</td>\n",
       "      <td>7284</td>\n",
       "    </tr>\n",
       "    <tr>\n",
       "      <th>Jharkhand</th>\n",
       "      <td>3008</td>\n",
       "      <td>2595</td>\n",
       "      <td>138</td>\n",
       "      <td>574</td>\n",
       "      <td>6315</td>\n",
       "    </tr>\n",
       "    <tr>\n",
       "      <th>Madhya Pradesh</th>\n",
       "      <td>1978</td>\n",
       "      <td>9574</td>\n",
       "      <td>301</td>\n",
       "      <td>151</td>\n",
       "      <td>12004</td>\n",
       "    </tr>\n",
       "    <tr>\n",
       "      <th>Uttar Pradesh</th>\n",
       "      <td>7876</td>\n",
       "      <td>8093</td>\n",
       "      <td>1353</td>\n",
       "      <td>212</td>\n",
       "      <td>17534</td>\n",
       "    </tr>\n",
       "  </tbody>\n",
       "</table>\n",
       "</div>"
      ],
      "text/plain": [
       "                No. of Inmates benefitted by Elementary Education  \\\n",
       "STATE/UT                                                            \n",
       "Andhra Pradesh                                               9480   \n",
       "Gujarat                                                      2310   \n",
       "Jharkhand                                                    3008   \n",
       "Madhya Pradesh                                               1978   \n",
       "Uttar Pradesh                                                7876   \n",
       "\n",
       "                No. of Inmates benefitted by Adult Education  \\\n",
       "STATE/UT                                                       \n",
       "Andhra Pradesh                                         13758   \n",
       "Gujarat                                                 3133   \n",
       "Jharkhand                                               2595   \n",
       "Madhya Pradesh                                          9574   \n",
       "Uttar Pradesh                                           8093   \n",
       "\n",
       "                No. of Inmates benefitted by Higher Education  \\\n",
       "STATE/UT                                                        \n",
       "Andhra Pradesh                                            672   \n",
       "Gujarat                                                   875   \n",
       "Jharkhand                                                 138   \n",
       "Madhya Pradesh                                            301   \n",
       "Uttar Pradesh                                            1353   \n",
       "\n",
       "                No. of Inmates benefitted by Computer Course  total_benefit  \n",
       "STATE/UT                                                                     \n",
       "Andhra Pradesh                                           170          24080  \n",
       "Gujarat                                                  966           7284  \n",
       "Jharkhand                                                574           6315  \n",
       "Madhya Pradesh                                           151          12004  \n",
       "Uttar Pradesh                                            212          17534  "
      ]
     },
     "execution_count": 33,
     "metadata": {},
     "output_type": "execute_result"
    }
   ],
   "source": [
    "highest_benefitted"
   ]
  },
  {
   "cell_type": "code",
   "execution_count": 34,
   "metadata": {},
   "outputs": [
    {
     "name": "stderr",
     "output_type": "stream",
     "text": [
      "C:\\Users\\Acer\\Anaconda3\\lib\\site-packages\\ipykernel_launcher.py:1: SettingWithCopyWarning: \n",
      "A value is trying to be set on a copy of a slice from a DataFrame\n",
      "\n",
      "See the caveats in the documentation: http://pandas.pydata.org/pandas-docs/stable/indexing.html#indexing-view-versus-copy\n",
      "  \"\"\"Entry point for launching an IPython kernel.\n"
     ]
    }
   ],
   "source": [
    "highest_benefitted.drop(['total_benefit'], axis=1, inplace=True)"
   ]
  },
  {
   "cell_type": "code",
   "execution_count": 35,
   "metadata": {},
   "outputs": [
    {
     "data": {
      "text/html": [
       "<div>\n",
       "<style scoped>\n",
       "    .dataframe tbody tr th:only-of-type {\n",
       "        vertical-align: middle;\n",
       "    }\n",
       "\n",
       "    .dataframe tbody tr th {\n",
       "        vertical-align: top;\n",
       "    }\n",
       "\n",
       "    .dataframe thead th {\n",
       "        text-align: right;\n",
       "    }\n",
       "</style>\n",
       "<table border=\"1\" class=\"dataframe\">\n",
       "  <thead>\n",
       "    <tr style=\"text-align: right;\">\n",
       "      <th></th>\n",
       "      <th>No. of Inmates benefitted by Elementary Education</th>\n",
       "      <th>No. of Inmates benefitted by Adult Education</th>\n",
       "      <th>No. of Inmates benefitted by Higher Education</th>\n",
       "      <th>No. of Inmates benefitted by Computer Course</th>\n",
       "    </tr>\n",
       "    <tr>\n",
       "      <th>STATE/UT</th>\n",
       "      <th></th>\n",
       "      <th></th>\n",
       "      <th></th>\n",
       "      <th></th>\n",
       "    </tr>\n",
       "  </thead>\n",
       "  <tbody>\n",
       "    <tr>\n",
       "      <th>Andhra Pradesh</th>\n",
       "      <td>9480</td>\n",
       "      <td>13758</td>\n",
       "      <td>672</td>\n",
       "      <td>170</td>\n",
       "    </tr>\n",
       "    <tr>\n",
       "      <th>Gujarat</th>\n",
       "      <td>2310</td>\n",
       "      <td>3133</td>\n",
       "      <td>875</td>\n",
       "      <td>966</td>\n",
       "    </tr>\n",
       "    <tr>\n",
       "      <th>Jharkhand</th>\n",
       "      <td>3008</td>\n",
       "      <td>2595</td>\n",
       "      <td>138</td>\n",
       "      <td>574</td>\n",
       "    </tr>\n",
       "    <tr>\n",
       "      <th>Madhya Pradesh</th>\n",
       "      <td>1978</td>\n",
       "      <td>9574</td>\n",
       "      <td>301</td>\n",
       "      <td>151</td>\n",
       "    </tr>\n",
       "    <tr>\n",
       "      <th>Uttar Pradesh</th>\n",
       "      <td>7876</td>\n",
       "      <td>8093</td>\n",
       "      <td>1353</td>\n",
       "      <td>212</td>\n",
       "    </tr>\n",
       "  </tbody>\n",
       "</table>\n",
       "</div>"
      ],
      "text/plain": [
       "                No. of Inmates benefitted by Elementary Education  \\\n",
       "STATE/UT                                                            \n",
       "Andhra Pradesh                                               9480   \n",
       "Gujarat                                                      2310   \n",
       "Jharkhand                                                    3008   \n",
       "Madhya Pradesh                                               1978   \n",
       "Uttar Pradesh                                                7876   \n",
       "\n",
       "                No. of Inmates benefitted by Adult Education  \\\n",
       "STATE/UT                                                       \n",
       "Andhra Pradesh                                         13758   \n",
       "Gujarat                                                 3133   \n",
       "Jharkhand                                               2595   \n",
       "Madhya Pradesh                                          9574   \n",
       "Uttar Pradesh                                           8093   \n",
       "\n",
       "                No. of Inmates benefitted by Higher Education  \\\n",
       "STATE/UT                                                        \n",
       "Andhra Pradesh                                            672   \n",
       "Gujarat                                                   875   \n",
       "Jharkhand                                                 138   \n",
       "Madhya Pradesh                                            301   \n",
       "Uttar Pradesh                                            1353   \n",
       "\n",
       "                No. of Inmates benefitted by Computer Course  \n",
       "STATE/UT                                                      \n",
       "Andhra Pradesh                                           170  \n",
       "Gujarat                                                  966  \n",
       "Jharkhand                                                574  \n",
       "Madhya Pradesh                                           151  \n",
       "Uttar Pradesh                                            212  "
      ]
     },
     "execution_count": 35,
     "metadata": {},
     "output_type": "execute_result"
    }
   ],
   "source": [
    "highest_benefitted.head()"
   ]
  },
  {
   "cell_type": "code",
   "execution_count": 36,
   "metadata": {},
   "outputs": [],
   "source": [
    "highest_benefitted.columns = ['Elementary', 'Adult', 'Higher', 'Computer']"
   ]
  },
  {
   "cell_type": "code",
   "execution_count": 37,
   "metadata": {},
   "outputs": [
    {
     "data": {
      "text/html": [
       "<div>\n",
       "<style scoped>\n",
       "    .dataframe tbody tr th:only-of-type {\n",
       "        vertical-align: middle;\n",
       "    }\n",
       "\n",
       "    .dataframe tbody tr th {\n",
       "        vertical-align: top;\n",
       "    }\n",
       "\n",
       "    .dataframe thead th {\n",
       "        text-align: right;\n",
       "    }\n",
       "</style>\n",
       "<table border=\"1\" class=\"dataframe\">\n",
       "  <thead>\n",
       "    <tr style=\"text-align: right;\">\n",
       "      <th></th>\n",
       "      <th>Elementary</th>\n",
       "      <th>Adult</th>\n",
       "      <th>Higher</th>\n",
       "      <th>Computer</th>\n",
       "    </tr>\n",
       "    <tr>\n",
       "      <th>STATE/UT</th>\n",
       "      <th></th>\n",
       "      <th></th>\n",
       "      <th></th>\n",
       "      <th></th>\n",
       "    </tr>\n",
       "  </thead>\n",
       "  <tbody>\n",
       "    <tr>\n",
       "      <th>Andhra Pradesh</th>\n",
       "      <td>9480</td>\n",
       "      <td>13758</td>\n",
       "      <td>672</td>\n",
       "      <td>170</td>\n",
       "    </tr>\n",
       "    <tr>\n",
       "      <th>Gujarat</th>\n",
       "      <td>2310</td>\n",
       "      <td>3133</td>\n",
       "      <td>875</td>\n",
       "      <td>966</td>\n",
       "    </tr>\n",
       "    <tr>\n",
       "      <th>Jharkhand</th>\n",
       "      <td>3008</td>\n",
       "      <td>2595</td>\n",
       "      <td>138</td>\n",
       "      <td>574</td>\n",
       "    </tr>\n",
       "    <tr>\n",
       "      <th>Madhya Pradesh</th>\n",
       "      <td>1978</td>\n",
       "      <td>9574</td>\n",
       "      <td>301</td>\n",
       "      <td>151</td>\n",
       "    </tr>\n",
       "    <tr>\n",
       "      <th>Uttar Pradesh</th>\n",
       "      <td>7876</td>\n",
       "      <td>8093</td>\n",
       "      <td>1353</td>\n",
       "      <td>212</td>\n",
       "    </tr>\n",
       "  </tbody>\n",
       "</table>\n",
       "</div>"
      ],
      "text/plain": [
       "                Elementary  Adult  Higher  Computer\n",
       "STATE/UT                                           \n",
       "Andhra Pradesh        9480  13758     672       170\n",
       "Gujarat               2310   3133     875       966\n",
       "Jharkhand             3008   2595     138       574\n",
       "Madhya Pradesh        1978   9574     301       151\n",
       "Uttar Pradesh         7876   8093    1353       212"
      ]
     },
     "execution_count": 37,
     "metadata": {},
     "output_type": "execute_result"
    }
   ],
   "source": [
    "highest_benefitted"
   ]
  },
  {
   "cell_type": "code",
   "execution_count": 38,
   "metadata": {},
   "outputs": [
    {
     "data": {
      "text/plain": [
       "<matplotlib.legend.Legend at 0x18124ad4be0>"
      ]
     },
     "execution_count": 38,
     "metadata": {},
     "output_type": "execute_result"
    },
    {
     "data": {
      "image/png": "[encoded data removed]",
      "text/plain": [
       "<matplotlib.figure.Figure at 0x18124ad4e48>"
      ]
     },
     "metadata": {},
     "output_type": "display_data"
    }
   ],
   "source": [
    "fig, ax = plt.subplots(figsize=(11.7, 8.27))\n",
    "highest_benefitted.plot(kind='bar', stacked=True, ax=ax)\n",
    "plt.legend()"
   ]
  },
  {
   "cell_type": "code",
   "execution_count": null,
   "metadata": {},
   "outputs": [],
   "source": []
  }
 ],
 "metadata": {
  "kernelspec": {
   "display_name": "Python 3",
   "language": "python",
   "name": "python3"
  },
  "language_info": {
   "codemirror_mode": {
    "name": "ipython",
    "version": 3
   },
   "file_extension": ".py",
   "mimetype": "text/x-python",
   "name": "python",
   "nbconvert_exporter": "python",
   "pygments_lexer": "ipython3",
   "version": "3.6.4"
  }
 },
 "nbformat": 4,
 "nbformat_minor": 2
}
